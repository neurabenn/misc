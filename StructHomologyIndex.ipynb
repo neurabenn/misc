{
 "cells": [
  {
   "cell_type": "code",
   "execution_count": null,
   "metadata": {},
   "outputs": [],
   "source": []
  },
  {
   "cell_type": "code",
   "execution_count": 4,
   "metadata": {},
   "outputs": [],
   "source": [
    "import nibabel as nib\n",
    "import numpy as np\n",
    "import gdist\n",
    "import cython\n",
    "import scipy\n",
    "import matplotlib.pyplot as plt\n",
    "from sklearn.metrics import pairwise_distances\n",
    "from scipy import spatial\n",
    "%matplotlib inline"
   ]
  },
  {
   "cell_type": "code",
   "execution_count": 5,
   "metadata": {},
   "outputs": [],
   "source": [
    "### lose the subcortex now\n",
    "reg_sphere=nib.load('LeftStructMSM/LeftStructMSMsphere.reg.surf.gii')\n",
    "L_sphere=nib.load('./spheres/Sphere.ICO5.L.surf.gii')\n",
    "subC=np.where(nib.load('../subcort/L.hum.SubC.ICO5.func.gii').darrays[0].data !=0)[0]\n"
   ]
  },
  {
   "cell_type": "code",
   "execution_count": 9,
   "metadata": {},
   "outputs": [],
   "source": [
    "reg_coords=reg_sphere.darrays[0].data\n",
    "Lcoords=L_sphere.darrays[0].data\n",
    "verts=np.asarray(range(len(reg_coords)))\n"
   ]
  },
  {
   "cell_type": "code",
   "execution_count": null,
   "metadata": {},
   "outputs": [],
   "source": []
  },
  {
   "cell_type": "code",
   "execution_count": 12,
   "metadata": {},
   "outputs": [],
   "source": [
    "# verts=np.delete(verts,subC).tolist()"
   ]
  },
  {
   "cell_type": "code",
   "execution_count": 13,
   "metadata": {},
   "outputs": [],
   "source": [
    "def find_corrVertex(A,B):\n",
    "    ### where is a an x y z coordinate, and B is a numpy array \n",
    "    vert=np.argmin(np.sum(np.abs(np.subtract(A,B)),axis=1))\n",
    "    return vert\n"
   ]
  },
  {
   "cell_type": "code",
   "execution_count": 14,
   "metadata": {},
   "outputs": [],
   "source": [
    "### get correspondig vertex from pig for each point in human from MSM registration\n",
    "new_verts=[]\n",
    "for i in verts:\n",
    "    new_verts.append(find_corrVertex(reg_coords[i],Lcoords))"
   ]
  },
  {
   "cell_type": "code",
   "execution_count": null,
   "metadata": {},
   "outputs": [],
   "source": []
  },
  {
   "cell_type": "code",
   "execution_count": 15,
   "metadata": {},
   "outputs": [],
   "source": [
    "### remove subcortex vertices prior to calculating MM index\n",
    "\n",
    "#### mask out at end just priot to calculating mm index\n",
    "# verts=np.delete(verts,subC)\n",
    "# new_verts=np.delete(new_verts,subC)"
   ]
  },
  {
   "cell_type": "code",
   "execution_count": 16,
   "metadata": {},
   "outputs": [],
   "source": [
    "##### gets the gradient profiles for the multimodal homology index\n",
    "def get_gradient_profile(vertex,sphere,grads,nodist=True):\n",
    "    src = np.array([vertex], dtype=np.int32)\n",
    "    faces=nib.load(sphere).darrays[1].data.astype(np.int32)\n",
    "    sphere=nib.load(sphere).darrays[0].data.astype(np.float64) \n",
    "    \n",
    "    grads=nib.load(grads).agg_data()\n",
    "    \n",
    "    subC=np.where(grads[0] ==1)[0]\n",
    "    \n",
    "    \n",
    "    if vertex in subC:\n",
    "        #### don't calculate vertex present in sub cortex\n",
    "        GradProfile=np.nan\n",
    "    else:\n",
    "        data=[]\n",
    "        data=np.asarray(grads[1:])\n",
    "        #### data finished loading\n",
    "        #### calculate distance from vertex\n",
    "        #### run on single vertex - reference gradient profile\n",
    "        if nodist==True:\n",
    "            GradProfile=data[:,src]\n",
    "        else:\n",
    "        #### calculate geodesic distance and find max prob\n",
    "            vertsGeo=gdist.compute_gdist(sphere,faces,source_indices=src,target_indices=None,max_distance=12)\n",
    "            vertsGeo=np.where(vertsGeo!=np.inf)[0].tolist()\n",
    "            ROI=[i for i in vertsGeo if i not in subC]\n",
    "            ROI=np.asarray(ROI)\n",
    "    \n",
    "            GradProfile=data[:,ROI].transpose()\n",
    "\n",
    "    return GradProfile\n"
   ]
  },
  {
   "cell_type": "code",
   "execution_count": 19,
   "metadata": {},
   "outputs": [],
   "source": [
    "def get_sim(H,P):\n",
    "    sim=[]\n",
    "    #### return nan if vertex corresponds to either species subcortex mask\n",
    "    if type(P) ==float or type(H) ==float:\n",
    "        sim=np.nan\n",
    "    else:\n",
    "        \n",
    "        for i in range(len(P)):\n",
    "            #### not this use case. only for when testing vertex to vertex and no sptial constraint\n",
    "            if P.shape==H.shape:\n",
    "                cos_sim=1-pairwise_distances(H.transpose(),\n",
    "                                             P.transpose(), metric = 'cosine')\n",
    "                sim.append(cos_sim)\n",
    "            else:\n",
    "                #### calculate between H and P wher P contains X vertices wihtin 8 mm of it and their gradient profiles\n",
    "                cos_sim=1-pairwise_distances(H.transpose(),\n",
    "                                             P[i].reshape(-1,1).transpose(),metric = 'cosine')\n",
    "            sim.append(cos_sim)\n",
    "        if len(sim) >=1:\n",
    "            sim=np.stack(sim).flatten()\n",
    "        else:\n",
    "            sim=np.asarray(sim)\n",
    "    return sim\n",
    "        "
   ]
  },
  {
   "cell_type": "code",
   "execution_count": 35,
   "metadata": {},
   "outputs": [],
   "source": [
    "#### build multimodal homology index\n",
    "def max_hom(A):\n",
    "    sim=[]\n",
    "    if type(A) ==float:\n",
    "        sim=np.nan\n",
    "        return sim\n",
    "    else:\n",
    "        return np.max(A)"
   ]
  },
  {
   "cell_type": "code",
   "execution_count": 38,
   "metadata": {},
   "outputs": [
    {
     "name": "stdout",
     "output_type": "stream",
     "text": [
      "Human gradient profile has shape (15, 1), and the pig with 12mm geodesic distance has (20, 15) \n",
      "\n",
      "The similarity of gradient profiles for each vertex in 12mm of our vertex is: \n",
      " [-0.22034526 -0.25886595 -0.28650832 -0.23610044 -0.26376855 -0.284261\n",
      " -0.27253246 -0.23834896 -0.27028108 -0.28428864 -0.28486383 -0.30051506\n",
      " -0.2669921  -0.28284132 -0.29017377 -0.30220842 -0.27929878 -0.28727663\n",
      " -0.29995692 -0.2848922 ]\n",
      "\n",
      "the max homology of this vertex is -0.22034525871276855\n"
     ]
    }
   ],
   "source": [
    "#### example cells for Ting\n",
    "testH=get_gradient_profile(0,'./spheres/Sphere.ICO5.L.surf.gii',\n",
    "                             'LeftStructMSM/L15humgrads.func.gii',nodist=True)\n",
    "testP=get_gradient_profile(new_verts[0],'./spheres/Sphere.ICO5.L.surf.gii',\n",
    "                             'LeftStructMSM/L15piggrads.func.gii',nodist=False)\n",
    "print(f'Human gradient profile has shape {testH.shape}, \\\n",
    "and the pig with 12mm geodesic distance has {testP.shape} \\n')\n",
    "sim=get_sim(testH,testP)\n",
    "print(f'The similarity of gradient profiles for each vertex in 12mm of our vertex is: \\n {sim}\\n')\n",
    "hom=max_hom(sim)\n",
    "print(f'the max homology of this vertex is {hom}')\n",
    "\n"
   ]
  },
  {
   "cell_type": "code",
   "execution_count": 21,
   "metadata": {},
   "outputs": [],
   "source": []
  },
  {
   "cell_type": "code",
   "execution_count": null,
   "metadata": {},
   "outputs": [],
   "source": []
  },
  {
   "cell_type": "code",
   "execution_count": null,
   "metadata": {},
   "outputs": [],
   "source": []
  },
  {
   "cell_type": "code",
   "execution_count": 22,
   "metadata": {},
   "outputs": [],
   "source": [
    "SFCindex=[]\n",
    "for i in range(len(verts)):\n",
    "    H=get_gradient_profile(verts[i],'./spheres/Sphere.ICO5.L.surf.gii','LeftStructMSM/L15humgrads.func.gii', nodist=True)\n",
    "    P=get_gradient_profile(new_verts[i],'./spheres/Sphere.ICO5.L.surf.gii', 'LeftStructMSM/L15piggrads.func.gii',nodist=False)\n",
    "    SFCindex.append(max_hom(get_sim(H,P)))"
   ]
  },
  {
   "cell_type": "code",
   "execution_count": null,
   "metadata": {},
   "outputs": [],
   "source": []
  },
  {
   "cell_type": "code",
   "execution_count": 24,
   "metadata": {},
   "outputs": [],
   "source": [
    "def save_gifti(data,out):\n",
    "    gi = nib.gifti.GiftiImage()\n",
    "    da = nib.gifti.GiftiDataArray(np.float32(data))\n",
    "    gi.add_gifti_data_array(da)\n",
    "    nib.save(gi,f'{out}.func.gii')\n",
    "save_gifti(np.asarray(SFCindex),'StructFCHomologyIndex')"
   ]
  },
  {
   "cell_type": "code",
   "execution_count": null,
   "metadata": {},
   "outputs": [],
   "source": []
  }
 ],
 "metadata": {
  "kernelspec": {
   "display_name": "Python 3",
   "language": "python",
   "name": "python3"
  },
  "language_info": {
   "codemirror_mode": {
    "name": "ipython",
    "version": 3
   },
   "file_extension": ".py",
   "mimetype": "text/x-python",
   "name": "python",
   "nbconvert_exporter": "python",
   "pygments_lexer": "ipython3",
   "version": "3.8.6"
  }
 },
 "nbformat": 4,
 "nbformat_minor": 2
}
